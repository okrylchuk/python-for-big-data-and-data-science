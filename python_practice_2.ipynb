{
 "nbformat": 4,
 "nbformat_minor": 0,
 "metadata": {
  "colab": {
   "provenance": []
  },
  "kernelspec": {
   "name": "python3",
   "language": "python",
   "display_name": "Python 3 (ipykernel)"
  },
  "language_info": {
   "name": "python"
  }
 },
 "cells": [
  {
   "cell_type": "markdown",
   "source": [
    "# I. Змінні та памʼять."
   ],
   "metadata": {
    "id": "p9wwt0LZzNvn"
   }
  },
  {
   "cell_type": "markdown",
   "source": [
    "1. Створити змінні, що посилаються на два цілих числа, що однакові за значенням, де значення належить проміжку від -5 до 256. Перевірте, чи будуть ці змінні рівні тільки за значенням або ж ще будуть посилатися на один і той самий обʼєкт в памʼяті? Наведіть код та дайте текстову відповідь нижче."
   ],
   "metadata": {
    "id": "HTJrrm95xSV9"
   }
  },
  {
   "cell_type": "code",
   "execution_count": 68,
   "metadata": {
    "id": "TATni2vzayjG",
    "ExecuteTime": {
     "end_time": "2024-02-12T22:13:36.546585600Z",
     "start_time": "2024-02-12T22:13:36.534049500Z"
    }
   },
   "outputs": [
    {
     "name": "stdout",
     "output_type": "stream",
     "text": [
      "False\n",
      "140731694979888\n",
      "140731695774424\n"
     ]
    }
   ],
   "source": [
    "my_var_a = 10\n",
    "my_var_b = 10\n",
    "print(var_a is var_b)\n",
    "print(id(var_a))\n",
    "print(id(var_b))"
   ]
  },
  {
   "cell_type": "markdown",
   "source": [
    "Дві змінні посилаються на один і той самий об'єкт в пам'яті, тому мають однаковий id."
   ],
   "metadata": {
    "id": "zfRG_o3WbRdg"
   }
  },
  {
   "cell_type": "markdown",
   "source": [
    "2. За допомогою якої функції можна перевірити належність змінної до вказаного типу даних (напр. чи змінна True посилається на значення булевого та цілочисленого типу)?"
   ],
   "metadata": {
    "id": "ISORzt6M3vAt"
   }
  },
  {
   "cell_type": "code",
   "source": [
    "my_var_a = True\n",
    "print(isinstance(my_var_a, bool))\n",
    "print(isinstance(my_var_a, int))"
   ],
   "metadata": {
    "id": "9vL9CFaMbfyo",
    "ExecuteTime": {
     "end_time": "2024-02-12T22:13:36.547582500Z",
     "start_time": "2024-02-12T22:13:36.537348400Z"
    }
   },
   "execution_count": 69,
   "outputs": [
    {
     "name": "stdout",
     "output_type": "stream",
     "text": [
      "True\n",
      "True\n"
     ]
    }
   ]
  },
  {
   "cell_type": "markdown",
   "source": [
    "# II. Цілі числа та числа з рухомою комою"
   ],
   "metadata": {
    "id": "tRxugKAxwYLw"
   }
  },
  {
   "cell_type": "markdown",
   "source": [
    "3. Створити дві змінні, що посилаються на будь-які ціле число та число з рухомою комою та продемонструвати такі арифметичні операції: додавання, віднімання, ділення, множення, ділення без залишку, ділення по модулю, приведення до ступеню. Всі результати операцій вивести на екран."
   ],
   "metadata": {
    "id": "NLHkgd5Gybc8"
   }
  },
  {
   "cell_type": "code",
   "source": [
    "int_num = 10\n",
    "float_num = 3.5\n",
    "\n",
    "# Додавання\n",
    "print(\"Додавання:\", int_num + float_num)\n",
    "\n",
    "# Віднімання\n",
    "print(\"Віднімання:\", int_num - float_num)\n",
    "\n",
    "# Ділення\n",
    "print(\"Ділення:\", int_num / float_num)\n",
    "\n",
    "# Множення\n",
    "print(\"Множення:\", int_num * float_num)\n",
    "\n",
    "# Ділення без залишку\n",
    "print(\"Ділення без залишку:\", int_num // float_num)\n",
    "\n",
    "# Ділення по модулю\n",
    "print(\"Ділення по модулю:\", int_num % float_num)\n",
    "\n",
    "# Приведення до ступеню цілого числа\n",
    "print(\"Приведення до ступеню цілого числа:\", int_num ** 2)\n",
    "\n",
    "# Приведення до ступеню\n",
    "print(\"Приведення до ступеню числа з рухомою комою:\", float_num ** 2)\n"
   ],
   "metadata": {
    "id": "nb8u_3pjb2cA",
    "ExecuteTime": {
     "end_time": "2024-02-12T22:13:36.548038800Z",
     "start_time": "2024-02-12T22:13:36.541650700Z"
    }
   },
   "execution_count": 70,
   "outputs": [
    {
     "name": "stdout",
     "output_type": "stream",
     "text": [
      "Додавання: 13.5\n",
      "Віднімання: 6.5\n",
      "Ділення: 2.857142857142857\n",
      "Множення: 35.0\n",
      "Ділення без залишку: 2.0\n",
      "Ділення по модулю: 3.0\n",
      "Приведення до ступеню цілого числа: 100\n",
      "Приведення до ступеню числа з рухомою комою: 12.25\n"
     ]
    }
   ]
  },
  {
   "cell_type": "markdown",
   "source": [
    "4. Використовуючи змінні з вправи 3, продемонструйте механізм явного перетворення типів, де числа з рухомою комою перетворюються на цілі числа. Також визначте змінну, що посилається на значення булевого типу і спробуйте явно привести її до цілого числа."
   ],
   "metadata": {
    "id": "1kBClKgPzZnC"
   }
  },
  {
   "cell_type": "code",
   "source": [
    "# Змінні з вправи 3\n",
    "int_num = 10\n",
    "float_num = 3.5\n",
    "my_bool = True\n",
    "my_bool_2 = False\n",
    "\n",
    "print(\"float_num: \", int(float_num))\n",
    "\n",
    "print(f\"my_bool, {my_bool}: \", int(my_bool))\n",
    "print(f\"my_bool, {my_bool_2}: \", int(my_bool_2))\n"
   ],
   "metadata": {
    "id": "TbqJbkeUcKsD",
    "ExecuteTime": {
     "end_time": "2024-02-12T22:13:36.622227600Z",
     "start_time": "2024-02-12T22:13:36.544623100Z"
    }
   },
   "execution_count": 71,
   "outputs": [
    {
     "name": "stdout",
     "output_type": "stream",
     "text": [
      "float_num:  3\n",
      "my_bool, True:  1\n",
      "my_bool, False:  0\n"
     ]
    }
   ]
  },
  {
   "cell_type": "markdown",
   "source": [
    "# IІІ. Рядки (String)."
   ],
   "metadata": {
    "id": "EVJ7AflwxrZi"
   }
  },
  {
   "cell_type": "markdown",
   "source": [
    "5. Створити пустий рядок двома різними способами."
   ],
   "metadata": {
    "id": "_s5ECzz9zE61"
   }
  },
  {
   "cell_type": "code",
   "source": [
    "empty_string1 = \"\"\n",
    "empty_string2 = str()\n"
   ],
   "metadata": {
    "id": "fkZJHu9Scvc-",
    "ExecuteTime": {
     "end_time": "2024-02-12T22:13:36.624220900Z",
     "start_time": "2024-02-12T22:13:36.547582500Z"
    }
   },
   "execution_count": 72,
   "outputs": []
  },
  {
   "cell_type": "markdown",
   "source": [
    "6. Створити рядок з апострофом. Зробити його сирим. Вивести обидва рядка на екран."
   ],
   "metadata": {
    "id": "4Bdn9J3MzLf_"
   }
  },
  {
   "cell_type": "code",
   "source": [
    "my_str_1 = \"Hello\\'world\"\n",
    "my_str_2 = r\"Hello\\'world\"\n",
    "\n",
    "print(my_str_1)\n",
    "print(my_str_2)"
   ],
   "metadata": {
    "id": "ivji_hsmc0GH",
    "ExecuteTime": {
     "end_time": "2024-02-12T22:13:36.625217500Z",
     "start_time": "2024-02-12T22:13:36.550542100Z"
    }
   },
   "execution_count": 73,
   "outputs": [
    {
     "name": "stdout",
     "output_type": "stream",
     "text": [
      "Hello'world\n",
      "Hello\\'world\n"
     ]
    }
   ]
  },
  {
   "cell_type": "markdown",
   "source": [
    "7. Створити змінну, що буде посилатися на Ваше прізвище латинкою. Створити форматований рядок, який буде мати вигляд \"My surname is ______\", де на місці нижніх підкреслень буде Ваше прізвище зі змінної."
   ],
   "metadata": {
    "id": "bg_d8wM4z8dS"
   }
  },
  {
   "cell_type": "code",
   "source": [
    "my_name = \"Krylchuk\"\n",
    "my_str = f\"My surname is {my_name}\"\n",
    "\n",
    "print(my_str)"
   ],
   "metadata": {
    "id": "kuxFgpWndACq",
    "ExecuteTime": {
     "end_time": "2024-02-12T22:13:36.625217500Z",
     "start_time": "2024-02-12T22:13:36.552556Z"
    }
   },
   "execution_count": 74,
   "outputs": [
    {
     "name": "stdout",
     "output_type": "stream",
     "text": [
      "My surname is Krylchuk\n"
     ]
    }
   ]
  },
  {
   "cell_type": "markdown",
   "source": [
    "8. Маючи рядок \"My dog is crazy.\" перетворити його на список [\"my\", \"dog\", \"is\", \"crazy\"]"
   ],
   "metadata": {
    "id": "1Nc6RqvQ0hxU"
   }
  },
  {
   "cell_type": "code",
   "source": [
    "my_str = \"My dog is crazy.\"\n",
    "my_list = my_str[:-1].lower().split()\n",
    "\n",
    "print(my_list)"
   ],
   "metadata": {
    "id": "w1Ya4RqedUhw",
    "ExecuteTime": {
     "end_time": "2024-02-12T22:13:36.625217500Z",
     "start_time": "2024-02-12T22:13:36.555511300Z"
    }
   },
   "execution_count": 75,
   "outputs": [
    {
     "name": "stdout",
     "output_type": "stream",
     "text": [
      "['my', 'dog', 'is', 'crazy']\n"
     ]
    }
   ]
  },
  {
   "cell_type": "markdown",
   "source": [
    "# IV. Робота зі списками."
   ],
   "metadata": {
    "id": "GYVqN9uP1D4n"
   }
  },
  {
   "cell_type": "markdown",
   "source": [
    "9. Створити список двома різними за синтаксисом способами. За допомогою вбудованої функції обчисліть довжину одного з них."
   ],
   "metadata": {
    "id": "7-DeDunw2sO-"
   }
  },
  {
   "cell_type": "code",
   "source": [
    "list_1 = [1, 2, 3, 4, 5]\n",
    "list_2 = list(range(6))\n",
    "\n",
    "print(len(list_2))"
   ],
   "metadata": {
    "id": "zxg06Uuxdyoh",
    "ExecuteTime": {
     "end_time": "2024-02-12T22:13:36.625217500Z",
     "start_time": "2024-02-12T22:13:36.559602800Z"
    }
   },
   "execution_count": 76,
   "outputs": [
    {
     "name": "stdout",
     "output_type": "stream",
     "text": [
      "6\n"
     ]
    }
   ]
  },
  {
   "cell_type": "markdown",
   "source": [
    "10. Створіть два списка та за допомогою спеціального методу додайте другий з них в якості останнього елемента першого."
   ],
   "metadata": {
    "id": "8vmGUTjL22gI"
   }
  },
  {
   "cell_type": "code",
   "source": [
    "list1 = [1, 2, 3]\n",
    "list2 = list(range(6))\n",
    "list1.append(list2)\n",
    "\n",
    "print(list1)"
   ],
   "metadata": {
    "id": "uHtjWYw7d7hm",
    "ExecuteTime": {
     "end_time": "2024-02-12T22:13:36.625217500Z",
     "start_time": "2024-02-12T22:13:36.562502800Z"
    }
   },
   "execution_count": 77,
   "outputs": [
    {
     "name": "stdout",
     "output_type": "stream",
     "text": [
      "[1, 2, 3, [0, 1, 2, 3, 4, 5]]\n"
     ]
    }
   ]
  },
  {
   "cell_type": "markdown",
   "source": [
    "11. Створіть список, де елементами цього списку також є списки. Отримай перший елемент з останнього рядка та виведи значення на екран."
   ],
   "metadata": {
    "id": "JC3BkD-67_--"
   }
  },
  {
   "cell_type": "code",
   "source": [
    "nested_list = [[1, 2, 3], [4, 5, 6], [7, 8, 9]]\n",
    "element = nested_list[-1][0]\n",
    "\n",
    "print(element)"
   ],
   "metadata": {
    "id": "Kz2jZHsGeLlz",
    "ExecuteTime": {
     "end_time": "2024-02-12T22:13:36.626214200Z",
     "start_time": "2024-02-12T22:13:36.565700900Z"
    }
   },
   "execution_count": 78,
   "outputs": [
    {
     "name": "stdout",
     "output_type": "stream",
     "text": [
      "7\n"
     ]
    }
   ]
  },
  {
   "cell_type": "markdown",
   "source": [
    "12. Створіть список з десяти елементів різного типу. Отримайте всі елементи, окрім двох перших та двох останніх та збережіть їх в новій змінній."
   ],
   "metadata": {
    "id": "JA47PKTv8zFK"
   }
  },
  {
   "cell_type": "code",
   "source": [
    "my_list = [1, 'two', 3.0, True, [5, 6], 'seven', 8, None, {'nine': 9}, 'ten']\n",
    "new_list = my_list[2:-2]\n",
    "\n",
    "print(new_list)"
   ],
   "metadata": {
    "id": "_rHdUR-ueP4-",
    "ExecuteTime": {
     "end_time": "2024-02-12T22:13:36.626214200Z",
     "start_time": "2024-02-12T22:13:36.568198400Z"
    }
   },
   "execution_count": 79,
   "outputs": [
    {
     "name": "stdout",
     "output_type": "stream",
     "text": [
      "[3.0, True, [5, 6], 'seven', 8, None]\n"
     ]
    }
   ]
  },
  {
   "cell_type": "markdown",
   "source": [
    "# V. Робота з кортежами."
   ],
   "metadata": {
    "id": "pCjR1dJb1Qbi"
   }
  },
  {
   "cell_type": "markdown",
   "source": [
    "14. Створити кортеж з один елементом."
   ],
   "metadata": {
    "id": "fAZCxAX06R_k"
   }
  },
  {
   "cell_type": "code",
   "source": [
    "my_tuple = (1,)\n",
    "\n",
    "print(my_tuple)"
   ],
   "metadata": {
    "id": "H7d82WkQev3e",
    "ExecuteTime": {
     "end_time": "2024-02-12T22:13:36.626214200Z",
     "start_time": "2024-02-12T22:13:36.571104100Z"
    }
   },
   "execution_count": 80,
   "outputs": [
    {
     "name": "stdout",
     "output_type": "stream",
     "text": [
      "(1,)\n"
     ]
    }
   ]
  },
  {
   "cell_type": "markdown",
   "source": [
    "15. Порівняйте список та кортеж. Назвіть схожості та відмінності, випадки використання."
   ],
   "metadata": {
    "id": "8LCtYcmI6w1M"
   }
  },
  {
   "cell_type": "markdown",
   "source": [
    "Обидва типи даних дозволяють зберігати послідовність елементів. Списки є мутабельними, тобто їх можна змінювати після створення. Кортежі є немутабельними. Списки зазвичай використовуються там, де потрібна змінна структура даних, яку можна змінювати або розширювати. Кортежі зазвичай використовуються там, де потрібна статична структура даних, яка не буде змінюватися. Наприклад, коли ми хочемо захистити дані від ненавмисних змін."
   ],
   "metadata": {
    "id": "fUsN1Hnue0C6"
   }
  },
  {
   "cell_type": "markdown",
   "source": [
    "16. Створіть кортеж з 11ти елементів чисел з рухомою комою та отримайте кожен парний за індексом елемент в зворотньому порядку. Наприклад, маючи (1.2, 2.3, 3.3, 4.3, 5.3, 6.3, 7.3, 8.3, 9.3, 0.3), отримати (0.3, 8.3, 6.3, 4.3, 2.3). Результат збережіть в нову змінну та виведіть на екран."
   ],
   "metadata": {
    "id": "m0xrwFijAmDD"
   }
  },
  {
   "cell_type": "code",
   "source": [
    "my_tuple = (1.1, 2.2, 3.3, 4.4, 5.5, 6.6, 7.7, 8.8, 9.9, 10.10, 11.11)\n",
    "print(my_tuple[0])\n",
    "result = my_tuple[::-2]\n",
    "\n",
    "\n",
    "print(result)"
   ],
   "metadata": {
    "id": "p-5DAH6XfAGA",
    "ExecuteTime": {
     "end_time": "2024-02-12T22:13:36.626214200Z",
     "start_time": "2024-02-12T22:13:36.573601900Z"
    }
   },
   "execution_count": 81,
   "outputs": [
    {
     "name": "stdout",
     "output_type": "stream",
     "text": [
      "1.1\n",
      "(11.11, 9.9, 7.7, 5.5, 3.3, 1.1)\n"
     ]
    }
   ]
  },
  {
   "cell_type": "markdown",
   "source": [
    "# VI. Множини (Set)."
   ],
   "metadata": {
    "id": "rW_I9dt3x6cW"
   }
  },
  {
   "cell_type": "markdown",
   "source": [
    "17. Створити множину без елементів. Після цого за допомогою методу додайте кілька різних елементів до множини. Чи множини є змінним типом даних?"
   ],
   "metadata": {
    "id": "zNjRLHLw1Bgg"
   }
  },
  {
   "cell_type": "code",
   "source": [
    "my_set = set()\n",
    "\n",
    "my_set.add(1)\n",
    "my_set.add('apple')\n",
    "my_set.add(3.14)\n",
    "\n",
    "print(my_set)"
   ],
   "metadata": {
    "id": "KOv7zc2Kfo4N",
    "ExecuteTime": {
     "end_time": "2024-02-12T22:13:36.626214200Z",
     "start_time": "2024-02-12T22:13:36.577314900Z"
    }
   },
   "execution_count": 82,
   "outputs": [
    {
     "name": "stdout",
     "output_type": "stream",
     "text": [
      "{1, 3.14, 'apple'}\n"
     ]
    }
   ]
  },
  {
   "cell_type": "markdown",
   "source": [
    "Так, множини є змінним типом даних. Ми можемо додавати та видаляти елементи з множини після її створення."
   ],
   "metadata": {
    "id": "vxS6dVYiftZQ"
   }
  },
  {
   "cell_type": "markdown",
   "source": [
    "18. Створити множину, маючи список my_list = [1, 1, 2, 67, 67, 8, 9]. Пояснити, чому \"зникли\" деякі елементи."
   ],
   "metadata": {
    "id": "gHpT0Zw_1HEF"
   }
  },
  {
   "cell_type": "code",
   "source": [
    "my_list = [1, 1, 2, 67, 67, 8, 9]\n",
    "my_set = set(my_list)\n",
    "\n",
    "print(my_set)"
   ],
   "metadata": {
    "id": "qCN4uvJ_fxmu",
    "ExecuteTime": {
     "end_time": "2024-02-12T22:13:36.626214200Z",
     "start_time": "2024-02-12T22:13:36.580190300Z"
    }
   },
   "execution_count": 83,
   "outputs": [
    {
     "name": "stdout",
     "output_type": "stream",
     "text": [
      "{1, 2, 67, 8, 9}\n"
     ]
    }
   ]
  },
  {
   "cell_type": "markdown",
   "source": [
    "Множини містять лише унікальні елементи, тобто кожен елемент може бути представлений лише один раз у множині. Коли ми створюємо множину зі списку, який містить дубльовані елементи, множина автоматично видаляє дубльовані значення, залишаючи тільки унікальні."
   ],
   "metadata": {
    "id": "tFNc1e20fyny"
   }
  },
  {
   "cell_type": "markdown",
   "source": [
    "19. Створіть дві множини. Продемонстуйте над ними операції: обʼєднання, різниці, пересічі та симетричної різниці. Використовуйте методи, що не змінюють множини, а створюють нові."
   ],
   "metadata": {
    "id": "SRMkGizS1UwY"
   }
  },
  {
   "cell_type": "code",
   "source": [
    "set1 = {1, 2, 3, 4, 5}\n",
    "set2 = {4, 5, 6, 7, 8}\n",
    "\n",
    "union_set = set1.union(set2)\n",
    "print(f\"Об'єднання множин: {union_set}\")\n",
    "\n",
    "difference_set = set1.difference(set2)\n",
    "print(f\"Різниця множин: {difference_set}\")\n",
    "\n",
    "intersection_set = set1.intersection(set2)\n",
    "print(f\"Перетин множин: {intersection_set}\")\n",
    "\n",
    "symmetric_difference_set = set1.symmetric_difference(set2)\n",
    "print(f\"Симетрична різниця множин: {symmetric_difference_set}\")"
   ],
   "metadata": {
    "id": "h0T-VuDnf3Ri",
    "ExecuteTime": {
     "end_time": "2024-02-12T22:13:36.626214200Z",
     "start_time": "2024-02-12T22:13:36.582688400Z"
    }
   },
   "execution_count": 84,
   "outputs": [
    {
     "name": "stdout",
     "output_type": "stream",
     "text": [
      "Об'єднання множин: {1, 2, 3, 4, 5, 6, 7, 8}\n",
      "Різниця множин: {1, 2, 3}\n",
      "Перетин множин: {4, 5}\n",
      "Симетрична різниця множин: {1, 2, 3, 6, 7, 8}\n"
     ]
    }
   ]
  },
  {
   "cell_type": "markdown",
   "source": [
    "# VII. Словники (Dictionary)."
   ],
   "metadata": {
    "id": "kWc8gkzTx7Ea"
   }
  },
  {
   "cell_type": "markdown",
   "source": [
    "20. Створіть пустий словник. До нього додайте чотири пари елементів такі, щоб їхні ключі були різних типів. Чи може список бути ключем? Чому?"
   ],
   "metadata": {
    "id": "i5FLwj-B2ybQ"
   }
  },
  {
   "cell_type": "code",
   "source": [
    "my_dict = {}\n",
    "\n",
    "# Додавання пар елементів з різними типами ключів\n",
    "my_dict[2] = \"integer\"\n",
    "my_dict[\"two\"] = \"string\"\n",
    "my_dict[3.14] = \"float\"\n",
    "my_dict[True] = \"boolean\"\n",
    "\n",
    "print(my_dict)"
   ],
   "metadata": {
    "id": "hxgv3BzrgLAV",
    "ExecuteTime": {
     "end_time": "2024-02-12T22:13:36.626214200Z",
     "start_time": "2024-02-12T22:13:36.586242Z"
    }
   },
   "execution_count": 85,
   "outputs": [
    {
     "name": "stdout",
     "output_type": "stream",
     "text": [
      "{2: 'integer', 'two': 'string', 3.14: 'float', True: 'boolean'}\n"
     ]
    }
   ]
  },
  {
   "cell_type": "markdown",
   "source": [
    "Список не може бути ключем, бо ключем можуть бути тільне немутабельні типи даних. "
   ],
   "metadata": {
    "id": "zwa7UVN-gR3m"
   }
  },
  {
   "cell_type": "markdown",
   "source": [
    "21. Створіть словник, де значенням в одній з пар теж буде словник, який теж має вкладений словник. Виведіть на екран значення, що міститься в словнику, що знаходиться на найнижчому рівні ієрархії вкладеності (найбільш внутрішній)."
   ],
   "metadata": {
    "id": "WM_pMlJsgoNf"
   }
  },
  {
   "cell_type": "code",
   "source": [
    "inner_dict = {1: \"value_inner\"}\n",
    "\n",
    "middle_dict = {2: inner_dict}\n",
    "my_dict = {3: middle_dict}\n",
    "\n",
    "# Виведення значення, що міститься в найнижчому рівні вкладеності\n",
    "print(my_dict[3][2][1])"
   ],
   "metadata": {
    "id": "60dlP7IHhAy4",
    "ExecuteTime": {
     "end_time": "2024-02-12T22:14:39.917313200Z",
     "start_time": "2024-02-12T22:14:39.913322600Z"
    }
   },
   "execution_count": 88,
   "outputs": [
    {
     "name": "stdout",
     "output_type": "stream",
     "text": [
      "value_inner\n"
     ]
    }
   ]
  },
  {
   "cell_type": "markdown",
   "source": [
    "# Вітаю! Ви велика(ий) молодець, що впоралась(вся). Похваліть себе та побалуйте чимось приємним. Я Вами пишаюся."
   ],
   "metadata": {
    "id": "xOZP0hkx6cCr"
   }
  }
 ]
}
