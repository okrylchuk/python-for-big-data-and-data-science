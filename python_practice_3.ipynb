{
 "nbformat": 4,
 "nbformat_minor": 0,
 "metadata": {
  "colab": {
   "provenance": []
  },
  "kernelspec": {
   "name": "python3",
   "language": "python",
   "display_name": "Python 3 (ipykernel)"
  },
  "language_info": {
   "name": "python"
  }
 },
 "cells": [
  {
   "cell_type": "markdown",
   "source": [
    "# I. Оператори порівняння та логічні оператори. Умови."
   ],
   "metadata": {
    "id": "qDEi2Pi-4yUC"
   }
  },
  {
   "cell_type": "markdown",
   "source": [
    "1. Створіть цілочисленну змінну зі своїм щасливим або улюбленим числом. Напишіть код, який би автоматизовував наступну задачу.\n",
    "\n",
    "Якщо число парне, помножте його на 2 та виведіть результат на екран.\n",
    "\n",
    "Але якщо число непарне, помножте його на 3 та додайте 1 і виведіть на екран."
   ],
   "metadata": {
    "id": "3v8D4Dkm43Ua"
   }
  },
  {
   "cell_type": "code",
   "execution_count": 5,
   "metadata": {
    "id": "dlVjc-Nu4bmb",
    "colab": {
     "base_uri": "https://localhost:8080/"
    },
    "outputId": "696a6c01-1ffd-436c-d008-7657784e275f",
    "ExecuteTime": {
     "end_time": "2024-02-18T19:38:45.476934100Z",
     "start_time": "2024-02-18T19:38:45.393171700Z"
    }
   },
   "outputs": [
    {
     "name": "stdout",
     "output_type": "stream",
     "text": [
      "Favorite number is odd: 22\n"
     ]
    }
   ],
   "source": [
    "favorite_number = 7\n",
    "\n",
    "if favorite_number % 2 == 0:\n",
    "    result = favorite_number * 2\n",
    "    print(f\"Favorite number is even: {result}\")\n",
    "else:\n",
    "    result = favorite_number * 3 + 1\n",
    "    print(f\"Favorite number is odd: {result}\")\n"
   ]
  },
  {
   "cell_type": "markdown",
   "source": [
    "2. Створіть змінну, що посилається на список. Якщо список пустий, додайте будь-який елемент у кінець списку. Якщо ж ні, то нічого не робіть."
   ],
   "metadata": {
    "id": "H669P0QK5BI_"
   }
  },
  {
   "cell_type": "code",
   "source": [
    "my_list = []\n",
    "\n",
    "if not my_list:\n",
    "    my_list.append(\"new element\")\n",
    "\n"
   ],
   "metadata": {
    "id": "ecWlfra45f6E",
    "ExecuteTime": {
     "end_time": "2024-02-18T19:38:45.478933700Z",
     "start_time": "2024-02-18T19:38:45.402227300Z"
    }
   },
   "execution_count": 6,
   "outputs": []
  },
  {
   "cell_type": "markdown",
   "source": [
    "3. Створіть рядок зі своїм імʼям латинкою. Напишіть код, який би автоматизовував наступну задачу.\n",
    "\n",
    "Якщо в імені є літера \"а\"\n",
    " або \"i\", Виведіть на екран повідомлення \"A or I is in the name\".\n",
    "\n",
    "\n",
    "\n",
    "Якщо в імені є літери \"o\" та \"n\", Виведіть на екран повідомлення \"O and N is in the name\".\n",
    "\n",
    "Також якщо в імені немає літери \"о\", але є \"n\", Виведіть на екран повідомлення \"Only N is in the name\".\n",
    "\n",
    "В решті випадків виведіть на екран повідомлення \"There is no N in the name, but there might be O\".\n",
    "\n",
    "Зверніть увагу, що, наприклад, для імені \"Antonina\" буде виведено два повідомлення."
   ],
   "metadata": {
    "id": "h9Y3cMUd5h85"
   }
  },
  {
   "cell_type": "code",
   "source": [
    "my_name = \"Oleksiy\"\n",
    "name = my_name.lower()\n",
    "\n",
    "# Перевірка наявності літер \"a\" або \"i\"\n",
    "if 'a' in name or 'i' in name:\n",
    "    print(\"A or I is in the name\")\n",
    "\n",
    "# Перевірка наявності літер \"o\" та \"n\"\n",
    "if 'o' in name and 'n' in name:\n",
    "    print(\"O and N is in the name\")\n",
    "\n",
    "if 'n' in name and 'o' not in name:\n",
    "    print(\"Only N is in the name\")\n",
    "\n",
    "if 'n' not in name:\n",
    "  print(\"There is no N in the name, but there might be O\")\n",
    "\n"
   ],
   "metadata": {
    "id": "bUH4LUx35u52",
    "colab": {
     "base_uri": "https://localhost:8080/"
    },
    "outputId": "9b632373-13f9-461c-e5c4-163fb6fab479",
    "ExecuteTime": {
     "end_time": "2024-02-18T19:38:45.479933200Z",
     "start_time": "2024-02-18T19:38:45.405734600Z"
    }
   },
   "execution_count": 7,
   "outputs": [
    {
     "name": "stdout",
     "output_type": "stream",
     "text": [
      "A or I is in the name\n",
      "There is no N in the name, but there might be O\n"
     ]
    }
   ]
  },
  {
   "cell_type": "markdown",
   "source": [
    "# II. Comprehensions."
   ],
   "metadata": {
    "id": "wPCXJv4354cU"
   }
  },
  {
   "cell_type": "markdown",
   "source": [
    "4. Створіть список, використовуючи if (не if-else), range та comprehension."
   ],
   "metadata": {
    "id": "jULLW5jN55Pw"
   }
  },
  {
   "cell_type": "code",
   "source": [
    "numbers = [x for x in range(10) if x % 2 == 0]\n",
    "\n",
    "print(numbers)"
   ],
   "metadata": {
    "id": "mlZalnVC6W3F",
    "colab": {
     "base_uri": "https://localhost:8080/"
    },
    "outputId": "36758c02-1dee-452b-bf82-d8ad22a6aeab",
    "ExecuteTime": {
     "end_time": "2024-02-18T19:38:45.533933300Z",
     "start_time": "2024-02-18T19:38:45.415759700Z"
    }
   },
   "execution_count": 8,
   "outputs": [
    {
     "name": "stdout",
     "output_type": "stream",
     "text": [
      "[0, 2, 4, 6, 8]\n"
     ]
    }
   ]
  },
  {
   "cell_type": "markdown",
   "source": [
    "5. Створіть словник, використовуючи dict comprehension, що містить if else. Коли слід використовувати comprehensions, а коли їх слід уникати?"
   ],
   "metadata": {
    "id": "LqhEQ4JW6XcC"
   }
  },
  {
   "cell_type": "code",
   "source": [
    "numbers = {x: \"even\" if x % 2 == 0 else \"odd\" for x in range(1, 11)}\n",
    "\n",
    "print(numbers)"
   ],
   "metadata": {
    "id": "1yVaFbOs6hta",
    "ExecuteTime": {
     "end_time": "2024-02-18T19:38:45.534933200Z",
     "start_time": "2024-02-18T19:38:45.419958900Z"
    }
   },
   "execution_count": 9,
   "outputs": [
    {
     "name": "stdout",
     "output_type": "stream",
     "text": [
      "{1: 'odd', 2: 'even', 3: 'odd', 4: 'even', 5: 'odd', 6: 'even', 7: 'odd', 8: 'even', 9: 'odd', 10: 'even'}\n"
     ]
    }
   ]
  },
  {
   "cell_type": "markdown",
   "source": [
    "Comprehensions слід використовувати коли є однотипний шаблон або умова для кожного елемента, який повинен увійти в словник. Якщо є багато умов або складні обчислення, comprehensions слід уникати через погіршння читабельності."
   ],
   "metadata": {
    "id": "wbkzNhKq6hzz"
   }
  },
  {
   "cell_type": "markdown",
   "source": [
    "6. Створіть список з рядками та запишіть його у змінну. Створіть ще один список на основі попереднього, де кожен рядок буде містити тільки три перших заглавних символи. Наприклад: ['hello', 'i', 'dont', 'care'] -> ['HEL', 'I', 'DON', 'CAR']. Використання comprehensions обовʼязкове."
   ],
   "metadata": {
    "id": "ZlqB8G3G6lHP"
   }
  },
  {
   "cell_type": "code",
   "source": [
    "my_list = ['hello', 'i', 'dont', 'care']\n",
    "\n",
    "new_list = [word[:3].upper() for word in my_list]\n",
    "\n",
    "print(new_list)\n"
   ],
   "metadata": {
    "id": "nw6rz0bR60VC",
    "colab": {
     "base_uri": "https://localhost:8080/"
    },
    "outputId": "d9748f1e-99b2-47a7-f795-fe8acfad77c8",
    "ExecuteTime": {
     "end_time": "2024-02-18T19:38:45.534933200Z",
     "start_time": "2024-02-18T19:38:45.424180600Z"
    }
   },
   "execution_count": 10,
   "outputs": [
    {
     "name": "stdout",
     "output_type": "stream",
     "text": [
      "['HEL', 'I', 'DON', 'CAR']\n"
     ]
    }
   ]
  },
  {
   "cell_type": "markdown",
   "source": [
    "# III. Цикли."
   ],
   "metadata": {
    "id": "Tj573IAH64Fz"
   }
  },
  {
   "cell_type": "markdown",
   "source": [
    "7. Продемонструйте роботу циклу while. Не можна використовувати True для запуску циклу, щоб уникнути безкінечного циклу!"
   ],
   "metadata": {
    "id": "tN_33xdE65H5"
   }
  },
  {
   "cell_type": "code",
   "source": [
    "count = 0\n",
    "\n",
    "while count < 5:\n",
    "    print(f\"Current count value: {count}\")\n",
    "    count += 1\n",
    "\n",
    "print(\"End of while cycle.\")"
   ],
   "metadata": {
    "id": "Kd9FO6yG63P5",
    "colab": {
     "base_uri": "https://localhost:8080/"
    },
    "outputId": "3e58aebf-3cdd-4b4d-f089-c1c397b77c5c",
    "ExecuteTime": {
     "end_time": "2024-02-18T19:38:45.536933500Z",
     "start_time": "2024-02-18T19:38:45.429723300Z"
    }
   },
   "execution_count": 11,
   "outputs": [
    {
     "name": "stdout",
     "output_type": "stream",
     "text": [
      "Current count value: 0\n",
      "Current count value: 1\n",
      "Current count value: 2\n",
      "Current count value: 3\n",
      "Current count value: 4\n",
      "End of while cycle.\n"
     ]
    }
   ]
  },
  {
   "cell_type": "markdown",
   "source": [
    "8. Напишіть програму, яка виведе на екран непарні числа в діапазоні від 0 до 20 включно."
   ],
   "metadata": {
    "id": "x2CmfZO-7pW0"
   }
  },
  {
   "cell_type": "code",
   "source": [
    "for number in range(21):\n",
    "    if number % 2 != 0:\n",
    "        print(number)"
   ],
   "metadata": {
    "id": "aCSRYA6s7tkF",
    "colab": {
     "base_uri": "https://localhost:8080/"
    },
    "outputId": "90099684-3e18-4fe7-e41a-f11a14e989ac",
    "ExecuteTime": {
     "end_time": "2024-02-18T19:38:45.536933500Z",
     "start_time": "2024-02-18T19:38:45.433217700Z"
    }
   },
   "execution_count": 12,
   "outputs": [
    {
     "name": "stdout",
     "output_type": "stream",
     "text": [
      "1\n",
      "3\n",
      "5\n",
      "7\n",
      "9\n",
      "11\n",
      "13\n",
      "15\n",
      "17\n",
      "19\n"
     ]
    }
   ]
  },
  {
   "cell_type": "markdown",
   "source": [
    "9. Створіть список з елементами булевого типу або None. Використовуючи цикли, отримайте в результаті список з кортежами, де перший елемент кортежу - індекс(ціле число), а другий елемент - відповідне значення з першого списку.\n",
    "\n",
    "Наприклад, [True, True, None, False] -> [(0, True), (1, True), (2, None), (3, False)]"
   ],
   "metadata": {
    "id": "MDWNocZD7t_B"
   }
  },
  {
   "cell_type": "code",
   "source": [
    "original_list = [True, True, None, False]\n",
    "result_list = []\n",
    "\n",
    "for index, value in enumerate(original_list):\n",
    "    result_list.append((index, value))\n",
    "\n",
    "print(result_list)\n"
   ],
   "metadata": {
    "id": "0EUyjMdp7yfh",
    "colab": {
     "base_uri": "https://localhost:8080/"
    },
    "outputId": "eafe3f99-cfa2-41ca-f1e3-521bb571195e",
    "ExecuteTime": {
     "end_time": "2024-02-18T19:38:45.563933600Z",
     "start_time": "2024-02-18T19:38:45.437722800Z"
    }
   },
   "execution_count": 13,
   "outputs": [
    {
     "name": "stdout",
     "output_type": "stream",
     "text": [
      "[(0, True), (1, True), (2, None), (3, False)]\n"
     ]
    }
   ]
  },
  {
   "cell_type": "markdown",
   "source": [
    "10. Створіть словник, де ключі - назви книжок, а значення - їхня кількість у наявності в Вашій міні-бібліотеці. Бібліотека має містити щонайменше 6 книжок (6 пар значень у словнику) і щонайбільше 10 (пар значень). Використовуючи цикли, оновіть словник (не створюйте новий) так, щоби кількість книг у наявності збільшилося на 5 кожної книги. Наприклад,\n",
    "{'It': 3, 'Fault stars': 10, 'Bible': 17, 'Psychological romance': 4, 'Harry Potter': 13} -> {'It': 8, 'Fault stars': 15, 'Bible': 22, 'Psychological romance': 9, 'Harry Potter': 18}"
   ],
   "metadata": {
    "id": "-6XUqlcG7zKs"
   }
  },
  {
   "cell_type": "code",
   "source": [
    "library = {\n",
    "    'It': 3,\n",
    "    'Fault stars': 10,\n",
    "    'Bible': 17,\n",
    "    'Psychological romance': 4,\n",
    "    'Harry Potter': 13,\n",
    "    'Python for Dummies': 5\n",
    "}\n",
    "\n",
    "print(\"Original dictionary:\", library)\n",
    "\n",
    "for book in library:\n",
    "    library[book] += 5\n",
    "\n",
    "print(\"Updated dictionary:\", library)\n"
   ],
   "metadata": {
    "id": "Ceoj9wwb791q",
    "colab": {
     "base_uri": "https://localhost:8080/"
    },
    "outputId": "4bcb142e-1225-4c45-eee0-e68e1124e75a",
    "ExecuteTime": {
     "end_time": "2024-02-18T19:38:45.565933200Z",
     "start_time": "2024-02-18T19:38:45.441389700Z"
    }
   },
   "execution_count": 14,
   "outputs": [
    {
     "name": "stdout",
     "output_type": "stream",
     "text": [
      "Original dictionary: {'It': 3, 'Fault stars': 10, 'Bible': 17, 'Psychological romance': 4, 'Harry Potter': 13, 'Python for Dummies': 5}\n",
      "Updated dictionary: {'It': 8, 'Fault stars': 15, 'Bible': 22, 'Psychological romance': 9, 'Harry Potter': 18, 'Python for Dummies': 10}\n"
     ]
    }
   ]
  },
  {
   "cell_type": "markdown",
   "source": [
    "11. Визначте цілочислену змінну n, що належить проміжку від 4 до 10 включно. Використовуючи цикли, виведіть в консоль наступний патерн.\n",
    "\n",
    "#\n",
    "##\n",
    "###\n",
    "####\n",
    "\n",
    "... #*n\n"
   ],
   "metadata": {
    "id": "QLzyJM288AC7"
   }
  },
  {
   "cell_type": "code",
   "source": [
    "n = 5\n",
    "\n",
    "for i in range(1, n + 1):\n",
    "    print(\"#\" * i)"
   ],
   "metadata": {
    "id": "KOpng87s8Duz",
    "colab": {
     "base_uri": "https://localhost:8080/"
    },
    "outputId": "10bf9b35-b229-46a3-ba53-f251afcaa567",
    "ExecuteTime": {
     "end_time": "2024-02-18T19:38:45.566934Z",
     "start_time": "2024-02-18T19:38:45.445793500Z"
    }
   },
   "execution_count": 15,
   "outputs": [
    {
     "name": "stdout",
     "output_type": "stream",
     "text": [
      "#\n",
      "##\n",
      "###\n",
      "####\n",
      "#####\n"
     ]
    }
   ]
  },
  {
   "cell_type": "markdown",
   "source": [
    "12. Гра \"Нумо вгадай\".\n",
    "Розробіть просту гру, де користувач має вгадати випадкове число від 1 до 100. Для генерації випадкового числа використовуйте функцію random.randint(a, b) (тут a та b включно). Для отримання числа з консолі використовуйте функцію input(), результат якої обовʼязково явно приведіть до типу int.\n",
    "\n",
    "Підказка: використовуйте цикл while та умови if-else, щоб повідомити користувачу піказки (напр. \"Більше\", \"Менше\") поки користувач не вгадає. По завершенню виведіть кількість спроб, які знадобилися для вгадування."
   ],
   "metadata": {
    "id": "_bd-bqAT8EHn"
   }
  },
  {
   "cell_type": "code",
   "source": [
    "import random\n",
    "\n",
    "random_number = random.randint(1, 100)\n",
    "attempts = 0\n",
    "\n",
    "print(\"Вітаємо у грі 'Нумо вгадай'!\")\n",
    "print(\"Спробуйте вгадати число від 1 до 100.\")\n",
    "\n",
    "while True:\n",
    "    guess = int(input(\"Введіть ваше число: \"))\n",
    "    attempts += 1\n",
    "\n",
    "    if guess == random_number:\n",
    "        print(\"Вітаємо! Ви вгадали число {} за {} спроб!\".format(random_number, attempts))\n",
    "        break\n",
    "    elif guess < random_number:\n",
    "        print(\"Більше!\")\n",
    "    else:\n",
    "        print(\"Менше!\")\n"
   ],
   "metadata": {
    "id": "IK9nnxFK8Hkl",
    "colab": {
     "base_uri": "https://localhost:8080/"
    },
    "outputId": "9d2caea5-5ee9-4d8b-99fc-ce322fdef03c",
    "ExecuteTime": {
     "end_time": "2024-02-18T19:48:04.851245200Z",
     "start_time": "2024-02-18T19:48:01.717355800Z"
    }
   },
   "execution_count": 21,
   "outputs": [
    {
     "name": "stdout",
     "output_type": "stream",
     "text": [
      "Вітаємо у грі 'Нумо вгадай'!\n",
      "Спробуйте вгадати число від 1 до 100.\n",
      "Вітаємо! Ви вгадали число 50 за 1 спроб!\n"
     ]
    }
   ]
  },
  {
   "cell_type": "markdown",
   "source": [
    "# Вітаю! Ви велика(ий) молодець, що впоралась(вся). Похваліть себе та побалуйте чимось приємним. Я Вами пишаюся."
   ],
   "metadata": {
    "id": "PXoXWb7Z8IGi"
   }
  }
 ]
}
